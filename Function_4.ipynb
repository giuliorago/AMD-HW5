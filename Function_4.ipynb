{
 "cells": [
  {
   "cell_type": "code",
   "execution_count": 11,
   "metadata": {},
   "outputs": [],
   "source": [
    "import pandas as pd\n",
    "import matplotlib.pyplot as plt\n",
    "import networkx as nx\n",
    "import numpy\n",
    "import gzip\n",
    "import main"
   ]
  },
  {
   "cell_type": "code",
   "execution_count": 12,
   "metadata": {},
   "outputs": [],
   "source": [
    "G = main.create_Graph()"
   ]
  },
  {
   "cell_type": "markdown",
   "metadata": {},
   "source": [
    "## Functionality 3 - Shortest Ordered Route "
   ]
  },
  {
   "cell_type": "code",
   "execution_count": 15,
   "metadata": {},
   "outputs": [],
   "source": [
    "def Func_3_time(source,list_n):\n",
    "    final_path = [source]   # the final path start in the source\n",
    "    for i in range(len(list_n)): # \n",
    "        if(i == 0):        \n",
    "            initial = source\n",
    "        else:\n",
    "            initial = list_n[i-1]\n",
    "        shortest_paths = {initial: (None, 0)}\n",
    "        current_node = initial\n",
    "        visited = set()\n",
    "\n",
    "        while current_node != list_n[i]:\n",
    "            visited.add(current_node)\n",
    "            destinations = list(G[current_node])\n",
    "            weight_to_current_node = shortest_paths[current_node][1]\n",
    "\n",
    "            for next_node in destinations:\n",
    "                weight = G[current_node][ next_node]['time'] + weight_to_current_node\n",
    "                if next_node not in shortest_paths:\n",
    "                    shortest_paths[next_node] = (current_node, weight)\n",
    "                else:\n",
    "                    current_shortest_weight = shortest_paths[next_node][1]\n",
    "                    if current_shortest_weight > weight:\n",
    "                        shortest_paths[next_node] = (current_node, weight)\n",
    "\n",
    "            next_destinations = {node: shortest_paths[node] for node in shortest_paths if node not in visited}\n",
    "            if not next_destinations:\n",
    "                return \"Route Not Possible\"\n",
    "            # next node is the destination with the lowest weight\n",
    "            current_node = min(next_destinations, key=lambda k: next_destinations[k][1])\n",
    "\n",
    "        # Work back through destinations in shortest path\n",
    "        path = []\n",
    "        while current_node is not None:\n",
    "            path.append(current_node)\n",
    "            next_node = shortest_paths[current_node][0]\n",
    "            current_node = next_node\n",
    "        # Reverse path\n",
    "        path = path[::-1]\n",
    "        final_path = final_path + path[1:]\n",
    "        \n",
    "        \n",
    "    return final_path"
   ]
  },
  {
   "cell_type": "code",
   "execution_count": 21,
   "metadata": {},
   "outputs": [],
   "source": [
    "def Func_3_dist(source,list_n):\n",
    "    final_path = [source]   # the final path start in the source\n",
    "    for i in range(len(list_n)): # \n",
    "        if(i == 0):        \n",
    "            initial = source\n",
    "        else:\n",
    "            initial = list_n[i-1]\n",
    "        shortest_paths = {initial: (None, 0)}\n",
    "        current_node = initial\n",
    "        visited = set()\n",
    "\n",
    "        while current_node != list_n[i]:\n",
    "            visited.add(current_node)\n",
    "            destinations = list(G[current_node])\n",
    "            weight_to_current_node = shortest_paths[current_node][1]\n",
    "\n",
    "            for next_node in destinations:\n",
    "                weight = G[current_node][ next_node]['dist'] + weight_to_current_node\n",
    "                if next_node not in shortest_paths:\n",
    "                    shortest_paths[next_node] = (current_node, weight)\n",
    "                else:\n",
    "                    current_shortest_weight = shortest_paths[next_node][1]\n",
    "                    if current_shortest_weight > weight:\n",
    "                        shortest_paths[next_node] = (current_node, weight)\n",
    "\n",
    "            next_destinations = {node: shortest_paths[node] for node in shortest_paths if node not in visited}\n",
    "            if not next_destinations:\n",
    "                return \"Route Not Possible\"\n",
    "            # next node is the destination with the lowest weight\n",
    "            current_node = min(next_destinations, key=lambda k: next_destinations[k][1])\n",
    "\n",
    "        # Work back through destinations in shortest path\n",
    "        path = []\n",
    "        while current_node is not None:\n",
    "            path.append(current_node)\n",
    "            next_node = shortest_paths[current_node][0]\n",
    "            current_node = next_node\n",
    "        # Reverse path\n",
    "        path = path[::-1]\n",
    "        final_path = final_path + path[1:]\n",
    "        \n",
    "        \n",
    "    return final_path"
   ]
  },
  {
   "cell_type": "code",
   "execution_count": 22,
   "metadata": {},
   "outputs": [],
   "source": [
    "def Func_3_network(source,list_n):\n",
    "    final_path = [source]   # the final path start in the source\n",
    "    for i in range(len(list_n)): # \n",
    "        if(i == 0):        \n",
    "            initial = source\n",
    "        else:\n",
    "            initial = list_n[i-1]\n",
    "        shortest_paths = {initial: (None, 0)}\n",
    "        current_node = initial\n",
    "        visited = set()\n",
    "\n",
    "        while current_node != list_n[i]:\n",
    "            visited.add(current_node)\n",
    "            destinations = list(G[current_node])\n",
    "            weight_to_current_node = shortest_paths[current_node][1]\n",
    "\n",
    "            for next_node in destinations:\n",
    "                weight = 1 + weight_to_current_node\n",
    "                if next_node not in shortest_paths:\n",
    "                    shortest_paths[next_node] = (current_node, weight)\n",
    "                else:\n",
    "                    current_shortest_weight = shortest_paths[next_node][1]\n",
    "                    if current_shortest_weight > weight:\n",
    "                        shortest_paths[next_node] = (current_node, weight)\n",
    "\n",
    "            next_destinations = {node: shortest_paths[node] for node in shortest_paths if node not in visited}\n",
    "            if not next_destinations:\n",
    "                return \"Route Not Possible\"\n",
    "            # next node is the destination with the lowest weight\n",
    "            current_node = min(next_destinations, key=lambda k: next_destinations[k][1])\n",
    "\n",
    "        # Work back through destinations in shortest path\n",
    "        path = []\n",
    "        while current_node is not None:\n",
    "            path.append(current_node)\n",
    "            next_node = shortest_paths[current_node][0]\n",
    "            current_node = next_node\n",
    "        # Reverse path\n",
    "        path = path[::-1]\n",
    "        final_path = final_path + path[1:]\n",
    "        \n",
    "        \n",
    "    return final_path"
   ]
  },
  {
   "cell_type": "code",
   "execution_count": 23,
   "metadata": {},
   "outputs": [
    {
     "data": {
      "text/plain": [
       "[1, 1803, 1802, 1050020, 1804, 1050020, 1802, 1803]"
      ]
     },
     "execution_count": 23,
     "metadata": {},
     "output_type": "execute_result"
    }
   ],
   "source": [
    "Func_3_dist(1,[1804,1803])"
   ]
  },
  {
   "cell_type": "code",
   "execution_count": null,
   "metadata": {},
   "outputs": [],
   "source": []
  },
  {
   "cell_type": "code",
   "execution_count": null,
   "metadata": {},
   "outputs": [],
   "source": []
  }
 ],
 "metadata": {
  "kernelspec": {
   "display_name": "Python 3",
   "language": "python",
   "name": "python3"
  },
  "language_info": {
   "codemirror_mode": {
    "name": "ipython",
    "version": 3
   },
   "file_extension": ".py",
   "mimetype": "text/x-python",
   "name": "python",
   "nbconvert_exporter": "python",
   "pygments_lexer": "ipython3",
   "version": "3.7.4"
  }
 },
 "nbformat": 4,
 "nbformat_minor": 2
}
