{
 "cells": [
  {
   "cell_type": "code",
   "execution_count": 2,
   "metadata": {},
   "outputs": [],
   "source": [
    "import pandas as pd\n",
    "import matplotlib.pyplot as plt\n",
    "import networkx as nx\n",
    "import numpy\n",
    "import time"
   ]
  },
  {
   "cell_type": "code",
   "execution_count": 3,
   "metadata": {},
   "outputs": [],
   "source": [
    "from itertools import permutations "
   ]
  },
  {
   "cell_type": "code",
   "execution_count": 4,
   "metadata": {},
   "outputs": [],
   "source": [
    "G = nx.read_gpickle(\"graph.gpickle.gz\")"
   ]
  },
  {
   "cell_type": "code",
   "execution_count": 38,
   "metadata": {},
   "outputs": [
    {
     "ename": "TypeError",
     "evalue": "'int' object is not subscriptable",
     "output_type": "error",
     "traceback": [
      "\u001b[1;31m---------------------------------------------------------------------------\u001b[0m",
      "\u001b[1;31mTypeError\u001b[0m                                 Traceback (most recent call last)",
      "\u001b[1;32m<ipython-input-38-2e91d6587754>\u001b[0m in \u001b[0;36m<module>\u001b[1;34m\u001b[0m\n\u001b[0;32m      1\u001b[0m \u001b[0ml\u001b[0m \u001b[1;33m=\u001b[0m \u001b[0mlist\u001b[0m\u001b[1;33m(\u001b[0m\u001b[0mG\u001b[0m\u001b[1;33m[\u001b[0m\u001b[1;36m1\u001b[0m\u001b[1;33m]\u001b[0m\u001b[1;33m)\u001b[0m\u001b[1;33m\u001b[0m\u001b[1;33m\u001b[0m\u001b[0m\n\u001b[1;32m----> 2\u001b[1;33m \u001b[0ml\u001b[0m\u001b[1;33m[\u001b[0m\u001b[1;36m0\u001b[0m\u001b[1;33m]\u001b[0m\u001b[1;33m[\u001b[0m\u001b[1;34m'time'\u001b[0m\u001b[1;33m]\u001b[0m\u001b[1;33m\u001b[0m\u001b[1;33m\u001b[0m\u001b[0m\n\u001b[0m",
      "\u001b[1;31mTypeError\u001b[0m: 'int' object is not subscriptable"
     ]
    }
   ],
   "source": []
  },
  {
   "cell_type": "code",
   "execution_count": 59,
   "metadata": {},
   "outputs": [],
   "source": [
    "def Func_4_time_dist(source,list_n):\n",
    "    final_path = [source]   # the final path start in the source\n",
    "    for i in range(len(list_n)): # \n",
    "        if(i == 0):        \n",
    "            initial = source\n",
    "        else:\n",
    "            initial = list_n[i-1]\n",
    "        shortest_paths = {initial: (None, 0)}\n",
    "        current_node = initial\n",
    "        visited = set()\n",
    "        while current_node != list_n[i]:\n",
    "            visited.add(current_node)\n",
    "            destinations = {}\n",
    "            l = list(G[current_node])\n",
    "            for j in l:\n",
    "                destinations[j] = G[current_node][j]['dist']\n",
    "            weight_to_current_node = shortest_paths[current_node][1]\n",
    "\n",
    "            for next_node in destinations:\n",
    "                weight = destinations[next_node] + weight_to_current_node\n",
    "                if next_node not in shortest_paths:\n",
    "                    shortest_paths[next_node] = (current_node, weight)\n",
    "                else:\n",
    "                    current_shortest_weight = shortest_paths[next_node][1]\n",
    "                    if current_shortest_weight > weight:\n",
    "                        shortest_paths[next_node] = (current_node, weight)\n",
    "            next_destinations = {node: shortest_paths[node] for node in shortest_paths if node not in visited}\n",
    "            if not next_destinations:\n",
    "                return \"Route Not Possible\"\n",
    "            # next node is the destination with the lowest weight\n",
    "            current_node = min(next_destinations, key=lambda k: next_destinations[k][1])\n",
    "\n",
    "        # Work back through destinations in shortest path\n",
    "        path = []\n",
    "        while current_node is not None:\n",
    "            path.append(current_node)\n",
    "            next_node = shortest_paths[current_node][0]\n",
    "            current_node = next_node\n",
    "        # Reverse path\n",
    "        path = path[::-1]\n",
    "        final_path = final_path + path[1:]\n",
    "        \n",
    "        \n",
    "    return final_path,list_n"
   ]
  },
  {
   "cell_type": "code",
   "execution_count": 61,
   "metadata": {},
   "outputs": [
    {
     "data": {
      "text/plain": [
       "([1,\n",
       "  1803,\n",
       "  1802,\n",
       "  1050022,\n",
       "  2208,\n",
       "  2207,\n",
       "  1050873,\n",
       "  2866,\n",
       "  1050871,\n",
       "  1050346,\n",
       "  2209,\n",
       "  2210,\n",
       "  1050351,\n",
       "  1050354,\n",
       "  1050355,\n",
       "  2231,\n",
       "  2235,\n",
       "  2234,\n",
       "  1050367,\n",
       "  2230,\n",
       "  2229,\n",
       "  2237,\n",
       "  1050369,\n",
       "  2238,\n",
       "  1050368,\n",
       "  6,\n",
       "  5,\n",
       "  1048581,\n",
       "  8,\n",
       "  1050376,\n",
       "  2246,\n",
       "  1050304,\n",
       "  1050305,\n",
       "  2647,\n",
       "  2157,\n",
       "  1050306,\n",
       "  1050308,\n",
       "  2159,\n",
       "  34,\n",
       "  1048603,\n",
       "  1048598,\n",
       "  28,\n",
       "  1050699,\n",
       "  1050700,\n",
       "  1048601,\n",
       "  31,\n",
       "  1050698,\n",
       "  1048627,\n",
       "  64,\n",
       "  2655,\n",
       "  2656,\n",
       "  2657,\n",
       "  1048626,\n",
       "  179,\n",
       "  180,\n",
       "  35,\n",
       "  1048604,\n",
       "  1048606,\n",
       "  2662,\n",
       "  1050717,\n",
       "  2661,\n",
       "  40,\n",
       "  1048609,\n",
       "  1050708,\n",
       "  43,\n",
       "  1048612,\n",
       "  2384,\n",
       "  1048594,\n",
       "  23,\n",
       "  24,\n",
       "  1048595,\n",
       "  25],\n",
       " [5, 8, 25])"
      ]
     },
     "execution_count": 61,
     "metadata": {},
     "output_type": "execute_result"
    }
   ],
   "source": [
    "f = Func_4_time_dist(1,[5,8,25])\n",
    "f"
   ]
  },
  {
   "cell_type": "code",
   "execution_count": 24,
   "metadata": {},
   "outputs": [
    {
     "data": {
      "text/plain": [
       "[5, 8, 25]"
      ]
     },
     "execution_count": 24,
     "metadata": {},
     "output_type": "execute_result"
    }
   ],
   "source": [
    "f1 = f[0]\n",
    "f2 = f[1]\n",
    "f2"
   ]
  },
  {
   "cell_type": "code",
   "execution_count": 33,
   "metadata": {},
   "outputs": [
    {
     "data": {
      "text/plain": [
       "[5, 8, 25]"
      ]
     },
     "execution_count": 33,
     "metadata": {},
     "output_type": "execute_result"
    }
   ],
   "source": [
    "f2"
   ]
  },
  {
   "cell_type": "code",
   "execution_count": 92,
   "metadata": {},
   "outputs": [],
   "source": [
    "def per(l):\n",
    "    l1 = []\n",
    "    final = l[-1]\n",
    "    perm = permutations(l[:-1])\n",
    "    for i in perm:\n",
    "        i = list(i)\n",
    "        i.append(final)\n",
    "        l1.append(i)\n",
    "    return l1"
   ]
  },
  {
   "cell_type": "code",
   "execution_count": 126,
   "metadata": {},
   "outputs": [],
   "source": [
    "l = per([2,7,780])"
   ]
  },
  {
   "cell_type": "code",
   "execution_count": 28,
   "metadata": {},
   "outputs": [],
   "source": [
    "def Conta_peso(l):\n",
    "    i = 0\n",
    "    for i in range(len(l)-1):\n",
    "        i += G[l[i]][l[i+1]]['attr_dict']['time']\n",
    "    return i"
   ]
  },
  {
   "cell_type": "code",
   "execution_count": 124,
   "metadata": {},
   "outputs": [],
   "source": [
    "def Function_4(source,l):\n",
    "    mi = 10000000\n",
    "    path = l[0]\n",
    "    for g in l:\n",
    "        r = Func_4_time_dist(source,g)\n",
    "        if(mi < Conta_peso(r)):\n",
    "            mi = Conta_peso(r)\n",
    "            path = r\n",
    "    return r"
   ]
  },
  {
   "cell_type": "code",
   "execution_count": 127,
   "metadata": {
    "collapsed": true
   },
   "outputs": [
    {
     "data": {
      "text/plain": [
       "[9,\n",
       " 1048583,\n",
       " 10,\n",
       " 2257,\n",
       " 2645,\n",
       " 2227,\n",
       " 2226,\n",
       " 1050360,\n",
       " 2253,\n",
       " 1050380,\n",
       " 1050378,\n",
       " 2223,\n",
       " 1050357,\n",
       " 2212,\n",
       " 1050349,\n",
       " 2196,\n",
       " 1050336,\n",
       " 1049945,\n",
       " 1710,\n",
       " 1797,\n",
       " 1705,\n",
       " 1050005,\n",
       " 1778,\n",
       " 1050000,\n",
       " 1774,\n",
       " 1049998,\n",
       " 1050002,\n",
       " 1781,\n",
       " 1783,\n",
       " 1796,\n",
       " 1050015,\n",
       " 1795,\n",
       " 1050014,\n",
       " 1050383,\n",
       " 2249,\n",
       " 2248,\n",
       " 1049494,\n",
       " 1050385,\n",
       " 211,\n",
       " 191,\n",
       " 1048726,\n",
       " 1048745,\n",
       " 1048728,\n",
       " 192,\n",
       " 1048727,\n",
       " 1048580,\n",
       " 7,\n",
       " 1048580,\n",
       " 1048727,\n",
       " 192,\n",
       " 1048728,\n",
       " 1048745,\n",
       " 1048726,\n",
       " 191,\n",
       " 211,\n",
       " 1050385,\n",
       " 1049494,\n",
       " 2248,\n",
       " 2249,\n",
       " 1050383,\n",
       " 1050014,\n",
       " 1795,\n",
       " 1050015,\n",
       " 1796,\n",
       " 1783,\n",
       " 1781,\n",
       " 1050002,\n",
       " 1049998,\n",
       " 1773,\n",
       " 1777,\n",
       " 1748,\n",
       " 1049977,\n",
       " 1749,\n",
       " 1049913,\n",
       " 1049911,\n",
       " 1663,\n",
       " 1662,\n",
       " 2013,\n",
       " 1664,\n",
       " 1049905,\n",
       " 1645,\n",
       " 1638,\n",
       " 1049888,\n",
       " 1049864,\n",
       " 1049863,\n",
       " 1618,\n",
       " 1049854,\n",
       " 1593,\n",
       " 1553,\n",
       " 1049821,\n",
       " 1554,\n",
       " 1049822,\n",
       " 1050173,\n",
       " 1973,\n",
       " 1050159,\n",
       " 1969,\n",
       " 1968,\n",
       " 1974,\n",
       " 1050150,\n",
       " 1964,\n",
       " 1050207,\n",
       " 2033,\n",
       " 1991,\n",
       " 1048578,\n",
       " 2,\n",
       " 1048578,\n",
       " 1991,\n",
       " 2033,\n",
       " 1050207,\n",
       " 1964,\n",
       " 1050150,\n",
       " 1974,\n",
       " 1968,\n",
       " 1969,\n",
       " 1050159,\n",
       " 1973,\n",
       " 1050173,\n",
       " 1049822,\n",
       " 1554,\n",
       " 1049821,\n",
       " 1553,\n",
       " 1593,\n",
       " 1049854,\n",
       " 1618,\n",
       " 1049863,\n",
       " 1049864,\n",
       " 1049888,\n",
       " 1638,\n",
       " 1645,\n",
       " 1049905,\n",
       " 1664,\n",
       " 2013,\n",
       " 1662,\n",
       " 1663,\n",
       " 1049911,\n",
       " 1049913,\n",
       " 1749,\n",
       " 1049977,\n",
       " 1748,\n",
       " 1777,\n",
       " 1773,\n",
       " 1049998,\n",
       " 1050002,\n",
       " 1781,\n",
       " 1783,\n",
       " 1796,\n",
       " 1050015,\n",
       " 1795,\n",
       " 1050014,\n",
       " 1050383,\n",
       " 2249,\n",
       " 2248,\n",
       " 1049494,\n",
       " 1050385,\n",
       " 211,\n",
       " 1048724,\n",
       " 185,\n",
       " 184,\n",
       " 1048719,\n",
       " 183,\n",
       " 1048718,\n",
       " 382,\n",
       " 1048878,\n",
       " 376,\n",
       " 1048879,\n",
       " 377,\n",
       " 379,\n",
       " 1048880,\n",
       " 378,\n",
       " 1048881,\n",
       " 372,\n",
       " 371,\n",
       " 1048892,\n",
       " 393,\n",
       " 1048882,\n",
       " 380,\n",
       " 1048891,\n",
       " 1048875,\n",
       " 373,\n",
       " 392,\n",
       " 1049055,\n",
       " 1049056,\n",
       " 1049057,\n",
       " 601,\n",
       " 1049063,\n",
       " 612,\n",
       " 1049065,\n",
       " 614,\n",
       " 1049069,\n",
       " 1049074,\n",
       " 621,\n",
       " 1049085,\n",
       " 119,\n",
       " 1049087,\n",
       " 638,\n",
       " 645,\n",
       " 1050424,\n",
       " 2313,\n",
       " 1050423,\n",
       " 1049217,\n",
       " 1049094,\n",
       " 647,\n",
       " 640,\n",
       " 1049089,\n",
       " 1049090,\n",
       " 1049099,\n",
       " 652,\n",
       " 1049098,\n",
       " 2701,\n",
       " 800,\n",
       " 1049117,\n",
       " 798,\n",
       " 2704,\n",
       " 1050744,\n",
       " 697,\n",
       " 699,\n",
       " 698,\n",
       " 1049226,\n",
       " 810,\n",
       " 813,\n",
       " 1049229,\n",
       " 709,\n",
       " 708,\n",
       " 812,\n",
       " 713,\n",
       " 711,\n",
       " 710,\n",
       " 726,\n",
       " 774,\n",
       " 1049197,\n",
       " 780]"
      ]
     },
     "execution_count": 127,
     "metadata": {},
     "output_type": "execute_result"
    }
   ],
   "source": [
    "Function_4(9,l)"
   ]
  },
  {
   "cell_type": "code",
   "execution_count": 52,
   "metadata": {},
   "outputs": [
    {
     "data": {
      "text/plain": [
       "-114315309"
      ]
     },
     "execution_count": 52,
     "metadata": {},
     "output_type": "execute_result"
    }
   ],
   "source": [
    "G.node[f[0]]['latitude']"
   ]
  },
  {
   "cell_type": "markdown",
   "metadata": {},
   "source": [
    "## Visualization"
   ]
  },
  {
   "cell_type": "code",
   "execution_count": 9,
   "metadata": {},
   "outputs": [],
   "source": [
    "import datetime\n",
    "import folium\n",
    "from folium.map import *\n",
    "from folium import plugins\n",
    "from folium.plugins import MeasureControl\n",
    "from folium.plugins import FloatImage"
   ]
  },
  {
   "cell_type": "code",
   "execution_count": 34,
   "metadata": {},
   "outputs": [],
   "source": [
    "for loc in f1:\n",
    "    long = str(G.node[loc]['longitude'])\n",
    "    lat = str(G.node[loc]['latitude'])\n",
    "    loc = [lat,long]\n",
    "    if loc in f2:\n",
    "        folium.CircleMarker(location=loc, radius=15,\n",
    "                popup='<b>Prediction Type: </b>Violent Crime<br></br><b>Location: </b>%s'%(loc), line_color='#3186cc',\n",
    "                fill_color='#000000',fill_opacity=0.7, fill=True).add_to(m)\n",
    "        print(i)\n",
    "    else:\n",
    "        folium.Marker(location=loc, radius=15,\n",
    "                popup='<b>Prediction Type: </b>Violent Crime<br></br><b>Location: </b>%s'%(loc), line_color='#3186cc',\n",
    "                fill_color='#000000',fill_opacity=0.7, fill=True).add_to(m)"
   ]
  },
  {
   "cell_type": "code",
   "execution_count": 26,
   "metadata": {},
   "outputs": [],
   "source": [
    "cord =  (G.node[f1[0]]['latitude'],G.node[f1[0]]['longitude'])"
   ]
  },
  {
   "cell_type": "code",
   "execution_count": 35,
   "metadata": {},
   "outputs": [],
   "source": [
    "m = folium.Map(location=cord, zoom_start=11,tiles='Stamen Terrain')\n",
    "cluster = folium.plugins.MarkerCluster(name=\"Previous Crimes\").add_to(m)"
   ]
  },
  {
   "cell_type": "code",
   "execution_count": 31,
   "metadata": {},
   "outputs": [
    {
     "data": {
      "text/html": [
       "<div style=\"width:100%;\"><div style=\"position:relative;width:100%;height:0;padding-bottom:60%;\"><iframe src=\"data:text/html;charset=utf-8;base64,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\" style=\"position:absolute;width:100%;height:100%;left:0;top:0;border:none !important;\" allowfullscreen webkitallowfullscreen mozallowfullscreen></iframe></div></div>"
      ],
      "text/plain": [
       "<folium.folium.Map at 0x15144a4eb08>"
      ]
     },
     "execution_count": 31,
     "metadata": {},
     "output_type": "execute_result"
    }
   ],
   "source": [
    "m"
   ]
  },
  {
   "cell_type": "code",
   "execution_count": null,
   "metadata": {},
   "outputs": [],
   "source": []
  }
 ],
 "metadata": {
  "kernelspec": {
   "display_name": "Python 3",
   "language": "python",
   "name": "python3"
  },
  "language_info": {
   "codemirror_mode": {
    "name": "ipython",
    "version": 3
   },
   "file_extension": ".py",
   "mimetype": "text/x-python",
   "name": "python",
   "nbconvert_exporter": "python",
   "pygments_lexer": "ipython3",
   "version": "3.7.4"
  }
 },
 "nbformat": 4,
 "nbformat_minor": 2
}
