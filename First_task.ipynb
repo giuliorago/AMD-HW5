{
 "cells": [
  {
   "cell_type": "markdown",
   "metadata": {},
   "source": [
    "# Homework 5 - Explore California and Nevada with graphs"
   ]
  },
  {
   "cell_type": "code",
   "execution_count": 3,
   "metadata": {},
   "outputs": [],
   "source": [
    "import pandas as pd\n",
    "import matplotlib.pyplot as plt\n",
    "import networkx as nx\n",
    "import numpy\n",
    "import gzip"
   ]
  },
  {
   "cell_type": "markdown",
   "metadata": {},
   "source": [
    "## 1. Data collection"
   ]
  },
  {
   "cell_type": "code",
   "execution_count": 5,
   "metadata": {},
   "outputs": [],
   "source": [
    "def create_Graph():\n",
    "    coord = pd.read_csv('../USA-road-d.CAL.co', sep = ',', delimiter = \" \",\n",
    "                      index_col = None, usecols = None, encoding = 'ISO-8859-1')  # we read the input file\n",
    "    coord.drop(columns=['c','Challenge:','Shortest','Paths'], inplace = True) # drop all the information useless\n",
    "    coord.rename(columns={\"c\": \"char\",\"9th\":\"ID\",\"DIMACS\":\"Longitude\",\"Implementation\":\"Latitude\"},inplace = True)#rename the columns\n",
    "    coord.drop(coord.index[:6], inplace=True) #the first 6 columns are not information about the node\n",
    "    \n",
    "    G = nx.Graph() # create the graph\n",
    "    # create all the node, with two attributes, latitude and longitute\n",
    "    for long in coord.iterrows():\n",
    "        l = list(long[1])\n",
    "        idx = int(l[0])\n",
    "        lat = int(l[1])\n",
    "        long = -int(l[2])\n",
    "        G.add_node(idx, latitude = lat, longitude = long)\n",
    "    \n",
    "    # now inport the time_distance file and create a dataframe\n",
    "    time = pd.read_csv(\"../USA-road-t.CAL.gr\",sep = ',',skiprows = 7, delimiter=\" \",\n",
    "                       names = ['char','N_1','N_2','time'])\n",
    "    time.drop(columns=['char'],inplace = True)\n",
    "    \n",
    "    \n",
    "    # now inport the physical_distance  file and create a dataframe\n",
    "    dist = pd.read_csv(\"../USA-road-d.CAL.gr\",sep = ',',skiprows = 7, delimiter=\" \",\n",
    "                       names = ['char','N_1','N_2','dist'])\n",
    "    dist.drop(columns=['char'],inplace = True)\n",
    "    final = dist.merge(time, on = [\"N_1\",\"N_2\"])\n",
    "    for idx in final.iterrows():\n",
    "        l = list(idx[1])\n",
    "        source = int(l[0])\n",
    "        dest = int(l[1])\n",
    "        di = int(l[2])\n",
    "        ti = int(l[3])\n",
    "        G.add_edge(source,dest,time = ti, dist = di)\n",
    "    return G"
   ]
  }
 ],
 "metadata": {
  "kernelspec": {
   "display_name": "Python 3",
   "language": "python",
   "name": "python3"
  },
  "language_info": {
   "codemirror_mode": {
    "name": "ipython",
    "version": 3
   },
   "file_extension": ".py",
   "mimetype": "text/x-python",
   "name": "python",
   "nbconvert_exporter": "python",
   "pygments_lexer": "ipython3",
   "version": "3.7.4"
  }
 },
 "nbformat": 4,
 "nbformat_minor": 2
}
