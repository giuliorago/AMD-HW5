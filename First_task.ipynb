{
 "cells": [
  {
   "cell_type": "markdown",
   "metadata": {},
   "source": [
    "# Homework 5 - Explore California and Nevada with graphs"
   ]
  },
  {
   "cell_type": "code",
   "execution_count": 100,
   "metadata": {},
   "outputs": [],
   "source": [
    "import pandas as pd\n",
    "import matplotlib.pyplot as plt\n",
    "import networkx as nx\n",
    "import gzip"
   ]
  },
  {
   "cell_type": "markdown",
   "metadata": {},
   "source": [
    "## 1. Data collection"
   ]
  },
  {
   "cell_type": "code",
   "execution_count": 3,
   "metadata": {},
   "outputs": [
    {
     "name": "stderr",
     "output_type": "stream",
     "text": [
      "C:\\Users\\Giulio\\Anaconda3\\lib\\site-packages\\IPython\\core\\interactiveshell.py:3058: DtypeWarning: Columns (1,2,3,4,5,6) have mixed types. Specify dtype option on import or set low_memory=False.\n",
      "  interactivity=interactivity, compiler=compiler, result=result)\n"
     ]
    }
   ],
   "source": [
    "coord = pd.read_csv('USA-road-d.CAL.co', sep = ',', delimiter = \" \",\n",
    "                      index_col = None, usecols = None, encoding = 'ISO-8859-1')  # we read the input file"
   ]
  },
  {
   "cell_type": "code",
   "execution_count": 5,
   "metadata": {
    "scrolled": true
   },
   "outputs": [],
   "source": [
    "coord.drop(columns=['c','Challenge:','Shortest','Paths'], inplace = True) # drop all the information useless"
   ]
  },
  {
   "cell_type": "code",
   "execution_count": 6,
   "metadata": {},
   "outputs": [],
   "source": [
    "coord.rename(columns={\"c\": \"char\",\"9th\":\"ID\",\"DIMACS\":\"Longitude\",\"Implementation\":\"Latitude\"},inplace = True) \n",
    "#rename the columns"
   ]
  },
  {
   "cell_type": "code",
   "execution_count": 7,
   "metadata": {},
   "outputs": [],
   "source": [
    "coord.drop(coord.index[:6], inplace=True) #the first 6 columns are not information about the node"
   ]
  },
  {
   "cell_type": "code",
   "execution_count": 8,
   "metadata": {},
   "outputs": [
    {
     "data": {
      "text/html": [
       "<div>\n",
       "<style scoped>\n",
       "    .dataframe tbody tr th:only-of-type {\n",
       "        vertical-align: middle;\n",
       "    }\n",
       "\n",
       "    .dataframe tbody tr th {\n",
       "        vertical-align: top;\n",
       "    }\n",
       "\n",
       "    .dataframe thead th {\n",
       "        text-align: right;\n",
       "    }\n",
       "</style>\n",
       "<table border=\"1\" class=\"dataframe\">\n",
       "  <thead>\n",
       "    <tr style=\"text-align: right;\">\n",
       "      <th></th>\n",
       "      <th>ID</th>\n",
       "      <th>Longitude</th>\n",
       "      <th>Latitude</th>\n",
       "    </tr>\n",
       "  </thead>\n",
       "  <tbody>\n",
       "    <tr>\n",
       "      <td>6</td>\n",
       "      <td>1</td>\n",
       "      <td>-114315309</td>\n",
       "      <td>34133550</td>\n",
       "    </tr>\n",
       "    <tr>\n",
       "      <td>7</td>\n",
       "      <td>2</td>\n",
       "      <td>-114223946</td>\n",
       "      <td>34176221</td>\n",
       "    </tr>\n",
       "    <tr>\n",
       "      <td>8</td>\n",
       "      <td>3</td>\n",
       "      <td>-114307299</td>\n",
       "      <td>34148791</td>\n",
       "    </tr>\n",
       "    <tr>\n",
       "      <td>9</td>\n",
       "      <td>4</td>\n",
       "      <td>-114318765</td>\n",
       "      <td>34138889</td>\n",
       "    </tr>\n",
       "    <tr>\n",
       "      <td>10</td>\n",
       "      <td>5</td>\n",
       "      <td>-114347300</td>\n",
       "      <td>34042614</td>\n",
       "    </tr>\n",
       "    <tr>\n",
       "      <td>...</td>\n",
       "      <td>...</td>\n",
       "      <td>...</td>\n",
       "      <td>...</td>\n",
       "    </tr>\n",
       "    <tr>\n",
       "      <td>1890816</td>\n",
       "      <td>1890811</td>\n",
       "      <td>-114010850</td>\n",
       "      <td>37121318</td>\n",
       "    </tr>\n",
       "    <tr>\n",
       "      <td>1890817</td>\n",
       "      <td>1890812</td>\n",
       "      <td>-114027219</td>\n",
       "      <td>37120524</td>\n",
       "    </tr>\n",
       "    <tr>\n",
       "      <td>1890818</td>\n",
       "      <td>1890813</td>\n",
       "      <td>-114022545</td>\n",
       "      <td>37121222</td>\n",
       "    </tr>\n",
       "    <tr>\n",
       "      <td>1890819</td>\n",
       "      <td>1890814</td>\n",
       "      <td>-114038688</td>\n",
       "      <td>37087748</td>\n",
       "    </tr>\n",
       "    <tr>\n",
       "      <td>1890820</td>\n",
       "      <td>1890815</td>\n",
       "      <td>-114044202</td>\n",
       "      <td>37085432</td>\n",
       "    </tr>\n",
       "  </tbody>\n",
       "</table>\n",
       "<p>1890815 rows × 3 columns</p>\n",
       "</div>"
      ],
      "text/plain": [
       "              ID   Longitude  Latitude\n",
       "6              1  -114315309  34133550\n",
       "7              2  -114223946  34176221\n",
       "8              3  -114307299  34148791\n",
       "9              4  -114318765  34138889\n",
       "10             5  -114347300  34042614\n",
       "...          ...         ...       ...\n",
       "1890816  1890811  -114010850  37121318\n",
       "1890817  1890812  -114027219  37120524\n",
       "1890818  1890813  -114022545  37121222\n",
       "1890819  1890814  -114038688  37087748\n",
       "1890820  1890815  -114044202  37085432\n",
       "\n",
       "[1890815 rows x 3 columns]"
      ]
     },
     "execution_count": 8,
     "metadata": {},
     "output_type": "execute_result"
    }
   ],
   "source": [
    "coord"
   ]
  },
  {
   "cell_type": "code",
   "execution_count": 56,
   "metadata": {},
   "outputs": [],
   "source": [
    "G = nx.Graph() # create the graph"
   ]
  },
  {
   "cell_type": "code",
   "execution_count": 57,
   "metadata": {},
   "outputs": [],
   "source": [
    "# create all the node, with two attributes, latitude and longitute\n",
    "for long in coord.iterrows():\n",
    "    l = list(long[1])\n",
    "    idx = int(l[0])\n",
    "    lat = int(l[1])\n",
    "    long = -int(l[2])\n",
    "    G.add_node(idx, latitude = lat, longitude = long)"
   ]
  },
  {
   "cell_type": "code",
   "execution_count": 31,
   "metadata": {
    "scrolled": true
   },
   "outputs": [],
   "source": [
    "# now inport the time_distance file and create a dataframe\n",
    "time = pd.read_csv(\"USA-road-t.CAL.gr\",sep = ',',skiprows = 7, delimiter=\" \",names = ['char','N_1','N_2','time'])"
   ]
  },
  {
   "cell_type": "code",
   "execution_count": 32,
   "metadata": {},
   "outputs": [],
   "source": [
    "time.drop(columns=['char'],inplace = True)"
   ]
  },
  {
   "cell_type": "code",
   "execution_count": 33,
   "metadata": {},
   "outputs": [],
   "source": [
    "# now inport the physical_distance  file and create a dataframe\n",
    "\n",
    "dist = pd.read_csv(\"USA-road-d.CAL.gr\",sep = ',',skiprows = 7, delimiter=\" \",names = ['char','N_1','N_2','dist'])"
   ]
  },
  {
   "cell_type": "code",
   "execution_count": 34,
   "metadata": {},
   "outputs": [],
   "source": [
    "dist.drop(columns=['char'],inplace = True)"
   ]
  },
  {
   "cell_type": "code",
   "execution_count": 35,
   "metadata": {},
   "outputs": [],
   "source": [
    "final = dist.merge(time, on = [\"N_1\",\"N_2\"])"
   ]
  },
  {
   "cell_type": "code",
   "execution_count": 54,
   "metadata": {},
   "outputs": [
    {
     "data": {
      "text/plain": [
       "2356409.0"
      ]
     },
     "execution_count": 54,
     "metadata": {},
     "output_type": "execute_result"
    }
   ],
   "source": []
  },
  {
   "cell_type": "code",
   "execution_count": 58,
   "metadata": {},
   "outputs": [],
   "source": [
    "for idx in final.iterrows():\n",
    "    l = list(idx[1])\n",
    "    source = int(l[0])\n",
    "    dest = int(l[1])\n",
    "    di = int(l[2])\n",
    "    ti = int(l[3])\n",
    "    \n",
    "    G.add_edge(source,dest,time = ti, dist = di)"
   ]
  },
  {
   "cell_type": "code",
   "execution_count": 70,
   "metadata": {},
   "outputs": [
    {
     "data": {
      "text/plain": [
       "int"
      ]
     },
     "execution_count": 70,
     "metadata": {},
     "output_type": "execute_result"
    }
   ],
   "source": [
    "type(G[1][1803]['time'])"
   ]
  },
  {
   "cell_type": "code",
   "execution_count": 62,
   "metadata": {},
   "outputs": [
    {
     "name": "stdout",
     "output_type": "stream",
     "text": [
      "1048577\n",
      "1803\n"
     ]
    }
   ],
   "source": [
    "G.n    print(i)"
   ]
  },
  {
   "cell_type": "markdown",
   "metadata": {},
   "source": [
    "##  Functionality 1 - Find the Neighbours! "
   ]
  },
  {
   "cell_type": "code",
   "execution_count": 112,
   "metadata": {},
   "outputs": [],
   "source": [
    "def func_1(v,d):\n",
    "    l = set()\n",
    "    G_aux = nx.Graph()\n",
    "    G_aux.add_node(v,latitude = G.node[v]['latitude'],longitude = G.node[v]['longitude'])\n",
    "    for i in G.neighbors(v):\n",
    "        if(G[v][i]['time'] <= d):\n",
    "            G_aux.add_node(i,latitude = G.node[i]['latitude'],longitude = G.node[i]['longitude'])\n",
    "            G_aux.add_edge(v,i, weight = G[v][i]['time'])\n",
    "    return G_aux\n",
    "        "
   ]
  },
  {
   "cell_type": "code",
   "execution_count": 128,
   "metadata": {},
   "outputs": [
    {
     "data": {
      "text/plain": [
       "4"
      ]
     },
     "execution_count": 128,
     "metadata": {},
     "output_type": "execute_result"
    }
   ],
   "source": [
    "l = func_1(36,352543245)\n",
    "l.number_of_nodes()"
   ]
  },
  {
   "cell_type": "code",
   "execution_count": 114,
   "metadata": {},
   "outputs": [
    {
     "name": "stdout",
     "output_type": "stream",
     "text": [
      "-114315309\n",
      "-114315049\n",
      "-114315667\n"
     ]
    }
   ],
   "source": [
    "for node in l.nodes():\n",
    "    print(l.nodes[node]['latitude'])"
   ]
  },
  {
   "cell_type": "code",
   "execution_count": 129,
   "metadata": {},
   "outputs": [],
   "source": [
    "pos = {}\n",
    "for node in l.nodes():\n",
    "    l.nodes[node]['pos'] = (l.nodes[node]['latitude'],l.node[node]['longitude'])"
   ]
  },
  {
   "cell_type": "code",
   "execution_count": null,
   "metadata": {},
   "outputs": [],
   "source": []
  },
  {
   "cell_type": "code",
   "execution_count": 132,
   "metadata": {},
   "outputs": [
    {
     "name": "stderr",
     "output_type": "stream",
     "text": [
      "C:\\Users\\Giulio\\Anaconda3\\lib\\site-packages\\networkx\\drawing\\nx_pylab.py:579: MatplotlibDeprecationWarning: \n",
      "The iterable function was deprecated in Matplotlib 3.1 and will be removed in 3.3. Use np.iterable instead.\n",
      "  if not cb.iterable(width):\n"
     ]
    },
    {
     "data": {
      "image/png": "[encoded data removed]",
      "text/plain": [
       "<Figure size 432x288 with 1 Axes>"
      ]
     },
     "metadata": {},
     "output_type": "display_data"
    }
   ],
   "source": [
    "plt.clf()\n",
    "nx.draw_networkx_nodes(l,nx.get_node_attributes(l,'pos'),\n",
    "                      node_shape=\".\", node_color = 'red')\n",
    "nx.draw_networkx_edges(l,pos = nx.get_node_attributes(l,'pos'), width=0.5,alpha= 0.5)\n",
    "plt.show()"
   ]
  },
  {
   "cell_type": "code",
   "execution_count": null,
   "metadata": {},
   "outputs": [],
   "source": [
    "def func_2(v):\n",
    "    path = []\n",
    "    "
   ]
  },
  {
   "cell_type": "code",
   "execution_count": null,
   "metadata": {},
   "outputs": [],
   "source": []
  },
  {
   "cell_type": "code",
   "execution_count": null,
   "metadata": {},
   "outputs": [],
   "source": []
  }
 ],
 "metadata": {
  "kernelspec": {
   "display_name": "Python 3",
   "language": "python",
   "name": "python3"
  },
  "language_info": {
   "codemirror_mode": {
    "name": "ipython",
    "version": 3
   },
   "file_extension": ".py",
   "mimetype": "text/x-python",
   "name": "python",
   "nbconvert_exporter": "python",
   "pygments_lexer": "ipython3",
   "version": "3.7.4"
  }
 },
 "nbformat": 4,
 "nbformat_minor": 2
}
