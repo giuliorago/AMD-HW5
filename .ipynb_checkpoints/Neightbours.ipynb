{
 "cells": [
  {
   "cell_type": "markdown",
   "metadata": {},
   "source": [
    "# Homework 5 - Explore California and Nevada with graphs"
   ]
  },
  {
   "cell_type": "code",
   "execution_count": 2,
   "metadata": {},
   "outputs": [],
   "source": [
    "import pandas as pd\n",
    "import matplotlib.pyplot as plt\n",
    "import networkx as nx\n",
    "import numpy\n",
    "import gzip"
   ]
  },
  {
   "cell_type": "markdown",
   "metadata": {},
   "source": [
    "## 1. Data collection"
   ]
  },
  {
   "cell_type": "code",
   "execution_count": 3,
   "metadata": {},
   "outputs": [
    {
     "name": "stderr",
     "output_type": "stream",
     "text": [
      "C:\\Users\\Admin\\Anaconda3\\lib\\site-packages\\IPython\\core\\interactiveshell.py:3058: DtypeWarning: Columns (1,2,3,4,5,6) have mixed types. Specify dtype option on import or set low_memory=False.\n",
      "  interactivity=interactivity, compiler=compiler, result=result)\n"
     ]
    }
   ],
   "source": [
    "coord = pd.read_csv('USA-road-c.CAL.co', sep = ',', delimiter = \" \",\n",
    "                      index_col = None, usecols = None, encoding = 'ISO-8859-1')  # we read the input file"
   ]
  },
  {
   "cell_type": "code",
   "execution_count": 4,
   "metadata": {},
   "outputs": [],
   "source": [
    "coord.drop(columns=['c','Challenge:','Shortest','Paths'], inplace = True) # drop all the information useless"
   ]
  },
  {
   "cell_type": "code",
   "execution_count": 5,
   "metadata": {},
   "outputs": [],
   "source": [
    "coord.rename(columns={'9th':'idx','DIMACS':\"Longitude\",'Implementation':\"Latitude\"},inplace = True) \n",
    "#rename the columns"
   ]
  },
  {
   "cell_type": "code",
   "execution_count": 6,
   "metadata": {},
   "outputs": [],
   "source": [
    "coord.drop(coord.index[:6], inplace=True) #the first 6 columns are not information about the node"
   ]
  },
  {
   "cell_type": "code",
   "execution_count": 7,
   "metadata": {},
   "outputs": [
    {
     "data": {
      "text/html": [
       "<div>\n",
       "<style scoped>\n",
       "    .dataframe tbody tr th:only-of-type {\n",
       "        vertical-align: middle;\n",
       "    }\n",
       "\n",
       "    .dataframe tbody tr th {\n",
       "        vertical-align: top;\n",
       "    }\n",
       "\n",
       "    .dataframe thead th {\n",
       "        text-align: right;\n",
       "    }\n",
       "</style>\n",
       "<table border=\"1\" class=\"dataframe\">\n",
       "  <thead>\n",
       "    <tr style=\"text-align: right;\">\n",
       "      <th></th>\n",
       "      <th>idx</th>\n",
       "      <th>Longitude</th>\n",
       "      <th>Latitude</th>\n",
       "    </tr>\n",
       "  </thead>\n",
       "  <tbody>\n",
       "    <tr>\n",
       "      <td>6</td>\n",
       "      <td>1</td>\n",
       "      <td>-114315309</td>\n",
       "      <td>34133550</td>\n",
       "    </tr>\n",
       "    <tr>\n",
       "      <td>7</td>\n",
       "      <td>2</td>\n",
       "      <td>-114223946</td>\n",
       "      <td>34176221</td>\n",
       "    </tr>\n",
       "    <tr>\n",
       "      <td>8</td>\n",
       "      <td>3</td>\n",
       "      <td>-114307299</td>\n",
       "      <td>34148791</td>\n",
       "    </tr>\n",
       "    <tr>\n",
       "      <td>9</td>\n",
       "      <td>4</td>\n",
       "      <td>-114318765</td>\n",
       "      <td>34138889</td>\n",
       "    </tr>\n",
       "    <tr>\n",
       "      <td>10</td>\n",
       "      <td>5</td>\n",
       "      <td>-114347300</td>\n",
       "      <td>34042614</td>\n",
       "    </tr>\n",
       "    <tr>\n",
       "      <td>...</td>\n",
       "      <td>...</td>\n",
       "      <td>...</td>\n",
       "      <td>...</td>\n",
       "    </tr>\n",
       "    <tr>\n",
       "      <td>1890816</td>\n",
       "      <td>1890811</td>\n",
       "      <td>-114010850</td>\n",
       "      <td>37121318</td>\n",
       "    </tr>\n",
       "    <tr>\n",
       "      <td>1890817</td>\n",
       "      <td>1890812</td>\n",
       "      <td>-114027219</td>\n",
       "      <td>37120524</td>\n",
       "    </tr>\n",
       "    <tr>\n",
       "      <td>1890818</td>\n",
       "      <td>1890813</td>\n",
       "      <td>-114022545</td>\n",
       "      <td>37121222</td>\n",
       "    </tr>\n",
       "    <tr>\n",
       "      <td>1890819</td>\n",
       "      <td>1890814</td>\n",
       "      <td>-114038688</td>\n",
       "      <td>37087748</td>\n",
       "    </tr>\n",
       "    <tr>\n",
       "      <td>1890820</td>\n",
       "      <td>1890815</td>\n",
       "      <td>-114044202</td>\n",
       "      <td>37085432</td>\n",
       "    </tr>\n",
       "  </tbody>\n",
       "</table>\n",
       "<p>1890815 rows × 3 columns</p>\n",
       "</div>"
      ],
      "text/plain": [
       "             idx   Longitude  Latitude\n",
       "6              1  -114315309  34133550\n",
       "7              2  -114223946  34176221\n",
       "8              3  -114307299  34148791\n",
       "9              4  -114318765  34138889\n",
       "10             5  -114347300  34042614\n",
       "...          ...         ...       ...\n",
       "1890816  1890811  -114010850  37121318\n",
       "1890817  1890812  -114027219  37120524\n",
       "1890818  1890813  -114022545  37121222\n",
       "1890819  1890814  -114038688  37087748\n",
       "1890820  1890815  -114044202  37085432\n",
       "\n",
       "[1890815 rows x 3 columns]"
      ]
     },
     "execution_count": 7,
     "metadata": {},
     "output_type": "execute_result"
    }
   ],
   "source": [
    "coord"
   ]
  },
  {
   "cell_type": "code",
   "execution_count": 8,
   "metadata": {},
   "outputs": [],
   "source": [
    "G = nx.Graph() # create the graph"
   ]
  },
  {
   "cell_type": "code",
   "execution_count": 9,
   "metadata": {},
   "outputs": [],
   "source": [
    "# create all the node, with two attributes, latitude and longitute\n",
    "for long in coord.iterrows():\n",
    "   #print(long)\n",
    "    l = list(long[1])\n",
    "    idx = int(long[0])\n",
    "    lat = int(l[1])\n",
    "    long = -int(l[2])\n",
    "    G.add_node(idx,latitude = lat, longitude = long)"
   ]
  },
  {
   "cell_type": "code",
   "execution_count": 10,
   "metadata": {},
   "outputs": [],
   "source": [
    "# now inport the time_distance file and create a dataframe\n",
    "time = pd.read_csv(\"USA-road-t.CAL.gr\",sep = ',',skiprows = 7, delimiter=\" \",names = ['char','N_1','N_2','time'])"
   ]
  },
  {
   "cell_type": "code",
   "execution_count": 11,
   "metadata": {},
   "outputs": [],
   "source": [
    "time.drop(columns=['char'],inplace = True)"
   ]
  },
  {
   "cell_type": "code",
   "execution_count": 13,
   "metadata": {},
   "outputs": [],
   "source": [
    "# now inport the physical_distance  file and create a dataframe\n",
    "\n",
    "dist = pd.read_csv(\"USA-road-d.CAL.gr\",sep = ',',skiprows = 7, delimiter=\" \",names = ['char','N_1','N_2','dist'])"
   ]
  },
  {
   "cell_type": "code",
   "execution_count": 14,
   "metadata": {},
   "outputs": [],
   "source": [
    "dist.drop(columns=['char'],inplace = True)"
   ]
  },
  {
   "cell_type": "code",
   "execution_count": 16,
   "metadata": {},
   "outputs": [],
   "source": [
    "final = dist.merge(time, on = [\"N_1\",\"N_2\"])"
   ]
  },
  {
   "cell_type": "code",
   "execution_count": 23,
   "metadata": {},
   "outputs": [
    {
     "data": {
      "text/plain": [
       "(4712818, 4)"
      ]
     },
     "execution_count": 23,
     "metadata": {},
     "output_type": "execute_result"
    }
   ],
   "source": [
    "final.shape"
   ]
  },
  {
   "cell_type": "code",
   "execution_count": 27,
   "metadata": {},
   "outputs": [],
   "source": [
    "l = [1 for n in range(4712818)]"
   ]
  },
  {
   "cell_type": "code",
   "execution_count": 28,
   "metadata": {},
   "outputs": [],
   "source": [
    "final['netkork']=l"
   ]
  },
  {
   "cell_type": "code",
   "execution_count": 29,
   "metadata": {},
   "outputs": [
    {
     "data": {
      "text/html": [
       "<div>\n",
       "<style scoped>\n",
       "    .dataframe tbody tr th:only-of-type {\n",
       "        vertical-align: middle;\n",
       "    }\n",
       "\n",
       "    .dataframe tbody tr th {\n",
       "        vertical-align: top;\n",
       "    }\n",
       "\n",
       "    .dataframe thead th {\n",
       "        text-align: right;\n",
       "    }\n",
       "</style>\n",
       "<table border=\"1\" class=\"dataframe\">\n",
       "  <thead>\n",
       "    <tr style=\"text-align: right;\">\n",
       "      <th></th>\n",
       "      <th>N_1</th>\n",
       "      <th>N_2</th>\n",
       "      <th>dist</th>\n",
       "      <th>time</th>\n",
       "      <th>netkork</th>\n",
       "    </tr>\n",
       "  </thead>\n",
       "  <tbody>\n",
       "    <tr>\n",
       "      <td>0</td>\n",
       "      <td>1</td>\n",
       "      <td>1048577</td>\n",
       "      <td>456</td>\n",
       "      <td>1139</td>\n",
       "      <td>1</td>\n",
       "    </tr>\n",
       "    <tr>\n",
       "      <td>1</td>\n",
       "      <td>1048577</td>\n",
       "      <td>1</td>\n",
       "      <td>456</td>\n",
       "      <td>1139</td>\n",
       "      <td>1</td>\n",
       "    </tr>\n",
       "    <tr>\n",
       "      <td>2</td>\n",
       "      <td>2</td>\n",
       "      <td>1048578</td>\n",
       "      <td>2389</td>\n",
       "      <td>5972</td>\n",
       "      <td>1</td>\n",
       "    </tr>\n",
       "    <tr>\n",
       "      <td>3</td>\n",
       "      <td>1048578</td>\n",
       "      <td>2</td>\n",
       "      <td>2389</td>\n",
       "      <td>5972</td>\n",
       "      <td>1</td>\n",
       "    </tr>\n",
       "    <tr>\n",
       "      <td>4</td>\n",
       "      <td>3</td>\n",
       "      <td>1048579</td>\n",
       "      <td>358</td>\n",
       "      <td>895</td>\n",
       "      <td>1</td>\n",
       "    </tr>\n",
       "    <tr>\n",
       "      <td>...</td>\n",
       "      <td>...</td>\n",
       "      <td>...</td>\n",
       "      <td>...</td>\n",
       "      <td>...</td>\n",
       "      <td>...</td>\n",
       "    </tr>\n",
       "    <tr>\n",
       "      <td>4712813</td>\n",
       "      <td>1890815</td>\n",
       "      <td>1048576</td>\n",
       "      <td>5642</td>\n",
       "      <td>14105</td>\n",
       "      <td>1</td>\n",
       "    </tr>\n",
       "    <tr>\n",
       "      <td>4712814</td>\n",
       "      <td>989247</td>\n",
       "      <td>1048576</td>\n",
       "      <td>3212</td>\n",
       "      <td>8030</td>\n",
       "      <td>1</td>\n",
       "    </tr>\n",
       "    <tr>\n",
       "      <td>4712815</td>\n",
       "      <td>1048576</td>\n",
       "      <td>989247</td>\n",
       "      <td>3212</td>\n",
       "      <td>8030</td>\n",
       "      <td>1</td>\n",
       "    </tr>\n",
       "    <tr>\n",
       "      <td>4712816</td>\n",
       "      <td>1048572</td>\n",
       "      <td>1890810</td>\n",
       "      <td>7230</td>\n",
       "      <td>18076</td>\n",
       "      <td>1</td>\n",
       "    </tr>\n",
       "    <tr>\n",
       "      <td>4712817</td>\n",
       "      <td>1890810</td>\n",
       "      <td>1048572</td>\n",
       "      <td>7230</td>\n",
       "      <td>18076</td>\n",
       "      <td>1</td>\n",
       "    </tr>\n",
       "  </tbody>\n",
       "</table>\n",
       "<p>4712818 rows × 5 columns</p>\n",
       "</div>"
      ],
      "text/plain": [
       "             N_1      N_2  dist   time  netkork\n",
       "0              1  1048577   456   1139        1\n",
       "1        1048577        1   456   1139        1\n",
       "2              2  1048578  2389   5972        1\n",
       "3        1048578        2  2389   5972        1\n",
       "4              3  1048579   358    895        1\n",
       "...          ...      ...   ...    ...      ...\n",
       "4712813  1890815  1048576  5642  14105        1\n",
       "4712814   989247  1048576  3212   8030        1\n",
       "4712815  1048576   989247  3212   8030        1\n",
       "4712816  1048572  1890810  7230  18076        1\n",
       "4712817  1890810  1048572  7230  18076        1\n",
       "\n",
       "[4712818 rows x 5 columns]"
      ]
     },
     "execution_count": 29,
     "metadata": {},
     "output_type": "execute_result"
    }
   ],
   "source": [
    "final"
   ]
  },
  {
   "cell_type": "code",
   "execution_count": 30,
   "metadata": {},
   "outputs": [],
   "source": [
    "for idx in final.iterrows():\n",
    "    l = list(idx[1])\n",
    "    source = int(l[0])\n",
    "    dest = int(l[1])\n",
    "    di = int(l[2])\n",
    "    ti = int(l[3])\n",
    "    ni = int(l[4])\n",
    "    \n",
    "    G.add_edge(source,dest,time = ti, dist = di, net=ni)"
   ]
  },
  {
   "cell_type": "markdown",
   "metadata": {},
   "source": [
    "# Functionality 1 - Find the Neighbours!"
   ]
  },
  {
   "cell_type": "code",
   "execution_count": 31,
   "metadata": {},
   "outputs": [],
   "source": [
    "def nodes_in_range(start, max_d, d_type):\n",
    "    \"\"\"\n",
    "    Basic function that gets all the nodes that are within the max_d distance from the start node\n",
    "    :param start: starting node\n",
    "    :param max_d: maximum distance allowed\n",
    "    :return: list of found nodes\n",
    "    \"\"\"\n",
    "    return nodes_in_range_util(start, 0, max_d, max_d, [start], d_type)\n",
    "\n",
    "def nodes_in_range_util(node, i, max_d, current_d, res,dist_type):\n",
    "    \"\"\"\n",
    "    Recursive helper function for the nodes_in_range function\n",
    "\n",
    "    :param node: current node\n",
    "    :param i: current index\n",
    "    :param max_d: maximum distance\n",
    "    :param current_d: current 'walkable' distance\n",
    "    :param res: nodes found\n",
    "    :return: list of found nodes\n",
    "    \"\"\"\n",
    "    # If the current index is greater than the length of adjacent vertices return the list of found nodes\n",
    "    if i >= len(list(G.neighbors(node))):\n",
    "        return res\n",
    "    # If the current 'walkable' distance is less than 0, increment i and call recursion\n",
    "    elif current_d <= 0:\n",
    "        i += 1\n",
    "        return nodes_in_range_util(node, i, max_d, max_d, res, dist_type)\n",
    "    # Else we start finding\n",
    "    \n",
    "    else:\n",
    "        neight = list(G.neighbors(node))\n",
    "        # Get the next node\n",
    "        next_node = neight[i] #we pick the node\n",
    "        # Check if we didnt already marked the next node\n",
    "        if next_node not in res:\n",
    "            # Get the graph weight\n",
    "            t1 = (node,next_node) #we try this two node order because library Nx.graph store them in arbitrary way\n",
    "            t2 = (next_node,node)\n",
    "            if dist_type=='time':\n",
    "                try:\n",
    "                    weight = t_attr[t1]\n",
    "                except Exception:\n",
    "                    weight = t_attr[t2]\n",
    "                    \n",
    "            elif dist_type=='dist':\n",
    "                try:\n",
    "                    weight = d_attr[t1]\n",
    "                except Exception:\n",
    "                    weight = d_attr[t2]\n",
    "                    \n",
    "            elif dist_type=='net':\n",
    "                try:\n",
    "                    weight = n_attr[t1]\n",
    "                except Exception:\n",
    "                    weight = n_attr[t2]\n",
    "            \n",
    "            # Check if the weight is 'walkable'\n",
    "            if weight < current_d:\n",
    "                # Append the node\n",
    "                res.append(next_node)\n",
    "                print(res)\n",
    "                # Call recursion starting from the current node\n",
    "                i += 1\n",
    "                return nodes_in_range_util(node, i, max_d, current_d,\n",
    "                                                nodes_in_range_util(next_node, 0, max_d, current_d - weight, res, dist_type), dist_type)\n",
    "            else:\n",
    "                # Call recursion going to the next node\n",
    "                i += 1\n",
    "                return nodes_in_range_util(node, i, max_d, current_d, res, dist_type)\n",
    "        # Increment i if the already marked the next node and proceed\n",
    "        else:\n",
    "            i += 1\n",
    "            return nodes_in_range_util(node, i, max_d, current_d, res, dist_type)"
   ]
  },
  {
   "cell_type": "code",
   "execution_count": 32,
   "metadata": {},
   "outputs": [],
   "source": [
    "#now we get edges attributes, for each category (time,distance,network)\n",
    "\n",
    "t_attr = nx.get_edge_attributes(G,'time')\n",
    "d_attr = nx.get_edge_attributes(G,'dist')\n",
    "n_attr = nx.get_edge_attributes(G,'net')\n",
    "\n",
    "#all this variables are dict, as a key there ia a tuple (node1,node2), and the value is the weight of the edge"
   ]
  },
  {
   "cell_type": "code",
   "execution_count": 34,
   "metadata": {},
   "outputs": [
    {
     "name": "stdout",
     "output_type": "stream",
     "text": [
      "[1, 1048577]\n",
      "[1, 1048577, 1766]\n",
      "[1, 1048577, 1766, 1049992]\n",
      "[1, 1048577, 1766, 1049992, 1767]\n",
      "[1, 1048577, 1766, 1049992, 1767, 1049993]\n",
      "[1, 1048577, 1766, 1049992, 1767, 1049993, 1803]\n",
      "[1, 1048577, 1766, 1049992, 1767, 1049993, 1803, 1802]\n",
      "[1, 1048577, 1766, 1049992, 1767, 1049993, 1803, 1802, 1050020]\n",
      "[1, 1048577, 1766, 1049992, 1767, 1049993, 1803, 1802, 1050020, 1050021]\n",
      "[1, 1048577, 1766, 1049992, 1767, 1049993, 1803, 1802, 1050020, 1050021, 1805]\n",
      "[1, 1048577, 1766, 1049992, 1767, 1049993, 1803, 1802, 1050020, 1050021, 1805, 1050007]\n",
      "[1, 1048577, 1766, 1049992, 1767, 1049993, 1803, 1802, 1050020, 1050021, 1805, 1050007, 1050024]\n",
      "[1, 1048577, 1766, 1049992, 1767, 1049993, 1803, 1802, 1050020, 1050021, 1805, 1050007, 1050024, 2590]\n",
      "[1, 1048577, 1766, 1049992, 1767, 1049993, 1803, 1802, 1050020, 1050021, 1805, 1050007, 1050024, 2590, 1050022]\n",
      "[1, 1048577, 1766, 1049992, 1767, 1049993, 1803, 1802, 1050020, 1050021, 1805, 1050007, 1050024, 2590, 1050022, 1799]\n",
      "[1, 1048577, 1766, 1049992, 1767, 1049993, 1803, 1802, 1050020, 1050021, 1805, 1050007, 1050024, 2590, 1050022, 1799, 1050018]\n",
      "[1, 1048577, 1766, 1049992, 1767, 1049993, 1803, 1802, 1050020, 1050021, 1805, 1050007, 1050024, 2590, 1050022, 1799, 1050018, 1808]\n",
      "[1, 1048577, 1766, 1049992, 1767, 1049993, 1803, 1802, 1050020, 1050021, 1805, 1050007, 1050024, 2590, 1050022, 1799, 1050018, 1808, 2589]\n"
     ]
    }
   ],
   "source": [
    "res = nodes_in_range(1, 10000, 'dist')"
   ]
  },
  {
   "cell_type": "code",
   "execution_count": 36,
   "metadata": {},
   "outputs": [
    {
     "name": "stdout",
     "output_type": "stream",
     "text": [
      "[1, 1048577, 1766, 1049992, 1767, 1049993, 1803, 1802, 1050020, 1050021, 1805, 1050007, 1050024, 2590, 1050022, 1799, 1050018, 1808, 2589]\n"
     ]
    }
   ],
   "source": [
    "print(res)"
   ]
  },
  {
   "cell_type": "code",
   "execution_count": null,
   "metadata": {},
   "outputs": [],
   "source": []
  }
 ],
 "metadata": {
  "kernelspec": {
   "display_name": "Python 3",
   "language": "python",
   "name": "python3"
  },
  "language_info": {
   "codemirror_mode": {
    "name": "ipython",
    "version": 3
   },
   "file_extension": ".py",
   "mimetype": "text/x-python",
   "name": "python",
   "nbconvert_exporter": "python",
   "pygments_lexer": "ipython3",
   "version": "3.7.4"
  }
 },
 "nbformat": 4,
 "nbformat_minor": 2
}
